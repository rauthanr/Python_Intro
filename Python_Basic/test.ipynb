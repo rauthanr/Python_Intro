{
 "cells": [
  {
   "cell_type": "code",
   "execution_count": 1,
   "metadata": {},
   "outputs": [
    {
     "data": {
      "text/plain": [
       "3"
      ]
     },
     "execution_count": 1,
     "metadata": {},
     "output_type": "execute_result"
    }
   ],
   "source": [
    "1+2"
   ]
  },
  {
   "cell_type": "code",
   "execution_count": 4,
   "metadata": {},
   "outputs": [
    {
     "name": "stdout",
     "output_type": "stream",
     "text": [
      "46\n"
     ]
    },
    {
     "data": {
      "text/plain": [
       "int"
      ]
     },
     "execution_count": 4,
     "metadata": {},
     "output_type": "execute_result"
    }
   ],
   "source": [
    "## Line continuation\n",
    "total=1+2+3+4+5+6+7+8+\\\n",
    "4+6\n",
    "print(total)\n"
   ]
  },
  {
   "cell_type": "code",
   "execution_count": 8,
   "metadata": {},
   "outputs": [
    {
     "name": "stdout",
     "output_type": "stream",
     "text": [
      "hello\n"
     ]
    },
    {
     "data": {
      "text/plain": [
       "str"
      ]
     },
     "execution_count": 8,
     "metadata": {},
     "output_type": "execute_result"
    }
   ],
   "source": [
    "## type inference\n",
    "type(total)\n",
    "print('hello')\n",
    "total=\"sample\"\n",
    "type(total)"
   ]
  },
  {
   "cell_type": "code",
   "execution_count": null,
   "metadata": {},
   "outputs": [],
   "source": [
    "## name error\n",
    "a=b"
   ]
  },
  {
   "cell_type": "code",
   "execution_count": null,
   "metadata": {},
   "outputs": [],
   "source": [
    "##Declaring and assigning a variable\n",
    "age=14\n",
    "isStudent=False\n",
    "name='Krishna'"
   ]
  },
  {
   "cell_type": "code",
   "execution_count": 12,
   "metadata": {},
   "outputs": [
    {
     "name": "stdout",
     "output_type": "stream",
     "text": [
      "14\n",
      "14\n"
     ]
    },
    {
     "data": {
      "text/plain": [
       "str"
      ]
     },
     "execution_count": 12,
     "metadata": {},
     "output_type": "execute_result"
    }
   ],
   "source": [
    "## Naming convention\n",
    "## start with a letter, _ and contains letter, numer and underscore\n",
    "## variables are case sensitive\n",
    "\n",
    "\n",
    "## Pyhton is dynamically typed\n",
    "age=14\n",
    "age_str = str(age)\n",
    "\n",
    "print(age_str)\n",
    "print(int(age_str))\n",
    "type(age_str)\n"
   ]
  },
  {
   "cell_type": "code",
   "execution_count": 13,
   "metadata": {},
   "outputs": [
    {
     "name": "stdout",
     "output_type": "stream",
     "text": [
      "34\n"
     ]
    }
   ],
   "source": [
    "## Input\n",
    "\n",
    "age=int(input(\"what is the age\"))\n",
    "print(age)"
   ]
  },
  {
   "cell_type": "code",
   "execution_count": 18,
   "metadata": {},
   "outputs": [
    {
     "name": "stdout",
     "output_type": "stream",
     "text": [
      "15\n",
      "2\n",
      "100000\n"
     ]
    }
   ],
   "source": [
    "## airthmatic operation\n",
    "a=10\n",
    "b=5\n",
    "result = a+b\n",
    "print(result)\n",
    "floor_div_result=a//b\n",
    "print(floor_div_result)\n",
    "exponent_result = a**b\n",
    "print(exponent_result)"
   ]
  },
  {
   "cell_type": "code",
   "execution_count": 1,
   "metadata": {},
   "outputs": [
    {
     "name": "stdout",
     "output_type": "stream",
     "text": [
      "True\n",
      "False\n"
     ]
    }
   ],
   "source": [
    "## Conparision Operator\n",
    "\n",
    "a=10\n",
    "b=10\n",
    "result=(a==b)\n",
    "print(result)\n",
    "\n",
    "\n",
    "str1=\"ravi\"\n",
    "str2=\"Ravi\"\n",
    "str1==str2\n",
    "\n",
    "\n",
    "## Logical \n",
    "\n",
    "x=True\n",
    "y=False\n",
    "\n",
    "result=x and y\n",
    "\n",
    "print(result)"
   ]
  },
  {
   "cell_type": "code",
   "execution_count": 6,
   "metadata": {},
   "outputs": [
    {
     "name": "stdout",
     "output_type": "stream",
     "text": [
      "{1, 2, 3, 4, 5}\n",
      "<class 'set'>\n",
      "True\n"
     ]
    }
   ],
   "source": [
    "## SET\n",
    "my_set=set([1,2,3,4,5])\n",
    "print(my_set)\n",
    "print(type(my_set))\n",
    "my_set.add(10)\n",
    "\n",
    "print(10 in my_set)"
   ]
  },
  {
   "cell_type": "code",
   "execution_count": 10,
   "metadata": {},
   "outputs": [
    {
     "name": "stdout",
     "output_type": "stream",
     "text": [
      "{1, 2, 3, 4, 5, 6, 7, 8, 9}\n",
      "{1, 2, 3}\n",
      "{1, 2, 3, 7, 8, 9}\n"
     ]
    }
   ],
   "source": [
    "set1={1,2,3,4,5,6}\n",
    "set2={4,5,6,7,8,9}\n",
    "\n",
    "union_set=set1.union(set2)\n",
    "print(union_set)\n",
    "\n",
    "print(set1.difference(set2))\n",
    "\n",
    "print(set1.symmetric_difference(set2))"
   ]
  },
  {
   "cell_type": "code",
   "execution_count": 14,
   "metadata": {},
   "outputs": [
    {
     "name": "stdout",
     "output_type": "stream",
     "text": [
      "{1, 2, 3, 4, 5, 6}\n",
      "<class 'set'>\n"
     ]
    }
   ],
   "source": [
    "# remove dupicate from list\n",
    "lst=[1,2,2,3,3,4,4,5,5,6]\n",
    "set3=set(lst)\n",
    "print(set3)\n",
    "tmp={2,3,4,5}\n",
    "print(type(tmp))"
   ]
  },
  {
   "cell_type": "code",
   "execution_count": 21,
   "metadata": {},
   "outputs": [
    {
     "name": "stdout",
     "output_type": "stream",
     "text": [
      "<class 'dict'>\n",
      "{'name': 'Raone', 'age': 45}\n",
      "Raone\n",
      "None\n",
      "Address not defines\n"
     ]
    }
   ],
   "source": [
    "#dictionries\n",
    "empty_dict={}\n",
    "print(type(empty_dict))\n",
    "\n",
    "student={\"name\": \"Raone\", \"age\":45}\n",
    "print(student)\n",
    "\n",
    "print(student[\"name\"])\n",
    "print(student.get(\"address\"))\n",
    "print(student.get(\"address\", \"Address not defines\"))"
   ]
  },
  {
   "cell_type": "code",
   "execution_count": 22,
   "metadata": {},
   "outputs": [
    {
     "name": "stdout",
     "output_type": "stream",
     "text": [
      "{'name': 'Raone'}\n"
     ]
    }
   ],
   "source": [
    "del student[\"age\"]\n",
    "print(student)"
   ]
  },
  {
   "cell_type": "code",
   "execution_count": 27,
   "metadata": {},
   "outputs": [
    {
     "name": "stdout",
     "output_type": "stream",
     "text": [
      "dict_keys(['name', 'address'])\n",
      "dict_values(['Ritik', 'India KA'])\n",
      "{'name': 'Ritik', 'address': 'India KA'}\n",
      "{'name': 'Ritik', 'address': 'India KA'}\n",
      "{'name': 'Ritik', 'address': 'India KA'}\n",
      "{'name': 'Raja', 'address': 'India KA'}\n"
     ]
    }
   ],
   "source": [
    "#common dict methods\n",
    "student[\"address\"]=\"India KA\"\n",
    "print(student.keys())\n",
    "print(student.values())\n",
    "\n",
    "\n",
    "## Shallow copy\n",
    "\n",
    "student_copy=student\n",
    "student_copy[\"name\"]=\"Ritik\"\n",
    "print(student)\n",
    "print(student_copy)\n",
    "\n",
    "student_copy1 = student.copy(); \n",
    "student_copy1[\"name\"]=\"Raja\"\n",
    "\n",
    "print(student)\n",
    "print(student_copy1)\n",
    "\n",
    "\n",
    "\n",
    "\n"
   ]
  },
  {
   "cell_type": "code",
   "execution_count": 29,
   "metadata": {},
   "outputs": [
    {
     "name": "stdout",
     "output_type": "stream",
     "text": [
      "name Ritik\n",
      "address India KA\n"
     ]
    }
   ],
   "source": [
    "for key,value in student.items():\n",
    "    print(key,value)"
   ]
  },
  {
   "cell_type": "code",
   "execution_count": 30,
   "metadata": {},
   "outputs": [
    {
     "name": "stdout",
     "output_type": "stream",
     "text": [
      "{'student1': {'name': 'Ravi', 'age': 37}, 'student2': {'name': 'Ram', 'age': 26}}\n"
     ]
    }
   ],
   "source": [
    "students={\n",
    "    \"student1\":{\"name\":\"Ravi\", \"age\":37},\n",
    "    \"student2\":{\"name\":\"Ram\", \"age\":26}\n",
    "}\n",
    "\n",
    "print(students)"
   ]
  },
  {
   "cell_type": "code",
   "execution_count": 31,
   "metadata": {},
   "outputs": [
    {
     "name": "stdout",
     "output_type": "stream",
     "text": [
      "{0: 0, 1: 1, 2: 4, 3: 9, 4: 16}\n"
     ]
    }
   ],
   "source": [
    "## dict conprehension\n",
    "squares={x:x**2 for x in range(5)}\n",
    "print(squares)\n"
   ]
  },
  {
   "cell_type": "code",
   "execution_count": null,
   "metadata": {},
   "outputs": [],
   "source": [
    "numbers=[1,2,2,3,3,3,3,4,4,5,5,5]\n",
    "frequency={x:}"
   ]
  }
 ],
 "metadata": {
  "kernelspec": {
   "display_name": "Python 3",
   "language": "python",
   "name": "python3"
  },
  "language_info": {
   "codemirror_mode": {
    "name": "ipython",
    "version": 3
   },
   "file_extension": ".py",
   "mimetype": "text/x-python",
   "name": "python",
   "nbconvert_exporter": "python",
   "pygments_lexer": "ipython3",
   "version": "3.12.0"
  }
 },
 "nbformat": 4,
 "nbformat_minor": 2
}
