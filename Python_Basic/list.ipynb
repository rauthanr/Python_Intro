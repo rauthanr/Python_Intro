{
 "cells": [
  {
   "cell_type": "code",
   "execution_count": 1,
   "metadata": {},
   "outputs": [
    {
     "name": "stdout",
     "output_type": "stream",
     "text": [
      "<class 'list'>\n"
     ]
    }
   ],
   "source": [
    "lst=[]\n",
    "print(type(lst))"
   ]
  },
  {
   "cell_type": "code",
   "execution_count": 2,
   "metadata": {},
   "outputs": [
    {
     "name": "stdout",
     "output_type": "stream",
     "text": [
      "[1, 'hello']\n"
     ]
    }
   ],
   "source": [
    "mixed_list=[1,\"hello\"]\n",
    "print(mixed_list)"
   ]
  },
  {
   "cell_type": "code",
   "execution_count": 6,
   "metadata": {},
   "outputs": [
    {
     "name": "stdout",
     "output_type": "stream",
     "text": [
      "['banana', 'Orange', 'Mango']\n",
      "['banana', 'Orange']\n"
     ]
    }
   ],
   "source": [
    "#Accessing list elements\n",
    "fruits=[\"apple\", \"banana\", \"Orange\",\"Mango\"]\n",
    "fruits[0]\n",
    "print(fruits[1:])\n",
    "print(fruits[1:3])\n",
    "\n"
   ]
  },
  {
   "cell_type": "code",
   "execution_count": 8,
   "metadata": {},
   "outputs": [
    {
     "name": "stdout",
     "output_type": "stream",
     "text": [
      "['apple', 'Wtermelon', 'Orange', 'Mango']\n"
     ]
    }
   ],
   "source": [
    "#Modifying list Elements\n",
    "fruits\n",
    "fruits[1] = \"Wtermelon\"\n",
    "print(fruits)"
   ]
  },
  {
   "cell_type": "code",
   "execution_count": 11,
   "metadata": {},
   "outputs": [
    {
     "name": "stdout",
     "output_type": "stream",
     "text": [
      "['apple', 'Water Apple', 'Wtermelon', 'Orange', 'Mango', 'Kiwi', 'Kiwi', 'Kiwi']\n",
      "['apple', 'Water Apple', 'Water Apple', 'Wtermelon', 'Orange', 'Mango', 'Kiwi', 'Kiwi', 'Kiwi']\n",
      "['apple', 'Water Apple', 'Water Apple', 'Wtermelon', 'Orange', 'Mango', 'Kiwi', 'Kiwi']\n"
     ]
    }
   ],
   "source": [
    "fruits.append(\"Kiwi\")\n",
    "print(fruits)\n",
    "fruits.insert(1, \"Water Apple\")\n",
    "print(fruits)\n",
    "\n",
    "poped_fruit=fruits.pop()\n",
    "print(fruits)"
   ]
  },
  {
   "cell_type": "code",
   "execution_count": 16,
   "metadata": {},
   "outputs": [
    {
     "name": "stdout",
     "output_type": "stream",
     "text": [
      "4\n"
     ]
    }
   ],
   "source": [
    "index=fruits.index(\"Orange\")\n",
    "print(index)\n",
    "fruits.count(\"Kiwi\")\n"
   ]
  },
  {
   "cell_type": "code",
   "execution_count": 20,
   "metadata": {},
   "outputs": [
    {
     "name": "stdout",
     "output_type": "stream",
     "text": [
      "['Kiwi', 'Kiwi', 'Mango', 'Orange', 'Water Apple', 'Water Apple', 'Wtermelon', 'apple']\n",
      "['apple', 'Wtermelon', 'Water Apple', 'Water Apple', 'Orange', 'Mango', 'Kiwi', 'Kiwi']\n"
     ]
    }
   ],
   "source": [
    "fruits.sort()\n",
    "print(fruits)\n",
    "fruits.reverse()\n",
    "print(fruits)\n",
    "fruits.clear() # remove sll the elements from the list"
   ]
  },
  {
   "cell_type": "code",
   "execution_count": 21,
   "metadata": {},
   "outputs": [
    {
     "name": "stdout",
     "output_type": "stream",
     "text": [
      "[3, 4, 5]\n",
      "[1, 2, 3, 4, 5]\n",
      "[6, 7, 8, 9]\n",
      "[1, 3, 5, 7, 9]\n",
      "[9, 8, 7, 6, 5, 4, 3, 2, 1]\n"
     ]
    }
   ],
   "source": [
    "# Slicing the list\n",
    "numbers=[1,2,3,4,5,6,7,8,9]\n",
    "print(numbers[2:5])\n",
    "print(numbers[:5])\n",
    "print(numbers[5:])\n",
    "print(numbers[::2])\n",
    "print(numbers[::-1])\n"
   ]
  },
  {
   "cell_type": "code",
   "execution_count": 23,
   "metadata": {},
   "outputs": [
    {
     "name": "stdout",
     "output_type": "stream",
     "text": [
      "apple\n",
      "banana\n",
      "Orange\n",
      "Mango\n",
      "0 apple\n",
      "1 banana\n",
      "2 Orange\n",
      "3 Mango\n"
     ]
    }
   ],
   "source": [
    "# Iterating over fruits\n",
    "fruits=[\"apple\", \"banana\", \"Orange\",\"Mango\"]\n",
    "for fruit in fruits:\n",
    "    print(fruit)\n",
    "\n",
    "for index,fruit in enumerate(fruits):\n",
    "    print(index,fruit)"
   ]
  },
  {
   "cell_type": "code",
   "execution_count": 25,
   "metadata": {},
   "outputs": [
    {
     "name": "stdout",
     "output_type": "stream",
     "text": [
      "[0, 1, 4, 9, 16, 25, 36, 49, 64, 81]\n"
     ]
    }
   ],
   "source": [
    "## List conprehension\n",
    "square=[x**2 for x in range(10)]\n",
    "print(square)"
   ]
  },
  {
   "cell_type": "code",
   "execution_count": 26,
   "metadata": {},
   "outputs": [
    {
     "name": "stdout",
     "output_type": "stream",
     "text": [
      "[0, 2, 4, 6, 8]\n"
     ]
    }
   ],
   "source": [
    "#Basic syntex [expression for item in iterable]\n",
    "# with Conditional Logic [expression for item in iterable if condition]\n",
    "# Nested list comprehension [expression for item1 in iterable1 for item2 in iterable2]\n",
    "\n",
    "even_numbers=[i for i in range(10) if i%2==0]\n",
    "print(even_numbers)"
   ]
  },
  {
   "cell_type": "code",
   "execution_count": 28,
   "metadata": {},
   "outputs": [
    {
     "name": "stdout",
     "output_type": "stream",
     "text": [
      "[[1, 'a'], [1, 'b'], [1, 'c'], [1, 'd'], [2, 'a'], [2, 'b'], [2, 'c'], [2, 'd'], [3, 'a'], [3, 'b'], [3, 'c'], [3, 'd'], [4, 'a'], [4, 'b'], [4, 'c'], [4, 'd']]\n"
     ]
    }
   ],
   "source": [
    "list1=[1,2,3,4]\n",
    "list2=['a','b','c','d']\n",
    "\n",
    "pair=[[i,j] for i in list1 for j in list2]\n",
    "print(pair)"
   ]
  },
  {
   "cell_type": "code",
   "execution_count": 29,
   "metadata": {},
   "outputs": [
    {
     "name": "stdout",
     "output_type": "stream",
     "text": [
      "[5, 6, 7, 7]\n"
     ]
    }
   ],
   "source": [
    "# List conprehension with function call\n",
    "words = [\"Hello\", \"Python\", \"Country\", \"America\"]\n",
    "lengths = [len(x) for x in words]\n",
    "print(lengths)"
   ]
  },
  {
   "cell_type": "code",
   "execution_count": 32,
   "metadata": {},
   "outputs": [
    {
     "data": {
      "text/plain": [
       "[1, 2, 3, 4, 5, 6, 7, 8, 9, 1, 2, 3, 4, 5, 6, 7, 8, 9]"
      ]
     },
     "execution_count": 32,
     "metadata": {},
     "output_type": "execute_result"
    }
   ],
   "source": [
    "numbers * 2"
   ]
  }
 ],
 "metadata": {
  "kernelspec": {
   "display_name": "Python 3",
   "language": "python",
   "name": "python3"
  },
  "language_info": {
   "codemirror_mode": {
    "name": "ipython",
    "version": 3
   },
   "file_extension": ".py",
   "mimetype": "text/x-python",
   "name": "python",
   "nbconvert_exporter": "python",
   "pygments_lexer": "ipython3",
   "version": "3.12.0"
  }
 },
 "nbformat": 4,
 "nbformat_minor": 2
}
