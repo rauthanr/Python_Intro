{
 "cells": [
  {
   "cell_type": "markdown",
   "metadata": {},
   "source": [
    "# Module: File Handling Assignments\n",
    "## Lesson: File Handling and Operations\n",
    "### Assignment 1: Reading a File\n",
    "\n",
    "Write a function that reads the contents of a file named `sample.txt` and prints each line.\n",
    "\n",
    "### Assignment 2: Writing to a File\n",
    "\n",
    "Write a function that writes a list of strings to a file named `output.txt`, with each string on a new line.\n",
    "\n",
    "### Assignment 3: Copying a File\n",
    "\n",
    "Write a function that copies the contents of a file named `source.txt` to a new file named `destination.txt`.\n",
    "\n",
    "### Assignment 4: Appending to a File\n",
    "\n",
    "Write a function that appends a given string to the end of a file named `log.txt`.\n",
    "\n",
    "### Assignment 5: Counting Words in a File\n",
    "\n",
    "Write a function that reads the contents of a file named `document.txt` and returns the number of words in the file.\n",
    "\n",
    "### Assignment 6: Finding and Replacing Text\n",
    "\n",
    "Write a function that finds and replaces all occurrences of a given word in a file named `data.txt` with another word.\n",
    "\n",
    "### Assignment 7: Reading a File in Reverse\n",
    "\n",
    "Write a function that reads the contents of a file named `reverse.txt` and prints each line in reverse order.\n",
    "\n",
    "### Assignment 8: Counting Lines, Words, and Characters\n",
    "\n",
    "Write a function that reads the contents of a file named `stats.txt` and returns the number of lines, words, and characters in the file.\n",
    "\n",
    "### Assignment 9: Merging Multiple Files\n",
    "\n",
    "Write a function that merges the contents of multiple files into a single file named `merged.txt`.\n",
    "\n",
    "### Assignment 10: Splitting a Large File\n",
    "\n",
    "Write a function that splits a large file named `large.txt` into smaller files of 100 lines each.\n",
    "\n",
    "### Assignment 11: Creating a Log File\n",
    "\n",
    "Write a function that creates a log file named `activity.log` and writes log messages with timestamps.\n",
    "\n",
    "### Assignment 12: Binary File Operations\n",
    "\n",
    "Write a function that reads a binary file named `image.bin` and writes its contents to another binary file named `copy_image.bin`.\n",
    "\n",
    "### Assignment 13: CSV File Operations\n",
    "\n",
    "Write a function that reads a CSV file named `data.csv` and prints its contents as a list of dictionaries.\n",
    "\n",
    "### Assignment 14: JSON File Operations\n",
    "\n",
    "Write a function that reads a JSON file named `data.json` and prints its contents as a Python dictionary.\n",
    "\n",
    "### Assignment 15: File Permission Handling\n",
    "\n",
    "Write a function that attempts to read a file named `protected.txt` and handles any permission errors gracefully by printing an error message."
   ]
  },
  {
   "cell_type": "code",
   "execution_count": null,
   "metadata": {},
   "outputs": [
    {
     "name": "stdout",
     "output_type": "stream",
     "text": [
      "this is a sample file.\n",
      "This contains the data for testing puspose.\n"
     ]
    }
   ],
   "source": [
    "#1 read file and print lines \n",
    "with open('sample.txt', 'r') as file:\n",
    "    for line in file:\n",
    "        print(line.strip())  # Print each line without extra newline characters"
   ]
  },
  {
   "cell_type": "code",
   "execution_count": 3,
   "id": "ae4b8a88",
   "metadata": {},
   "outputs": [],
   "source": [
    "#2 write a list of strings to a file\n",
    "with open('output.txt', 'w') as file:\n",
    "    lines = ['Hello, World!', 'This is a test.', 'Writing to a file.']\n",
    "    for line in lines:\n",
    "        file.write(line + '\\n')  # Write each string followed by a newline"
   ]
  },
  {
   "cell_type": "code",
   "execution_count": null,
   "id": "cfee81f6",
   "metadata": {},
   "outputs": [],
   "source": [
    "#3 copy content from one file to another\n",
    "import shutil\n",
    "shutil.copyfile('sample.txt', 'copy_of_sample.txt')"
   ]
  },
  {
   "cell_type": "code",
   "execution_count": 12,
   "id": "21dbcf51",
   "metadata": {},
   "outputs": [],
   "source": [
    "#4 append a string to a file\n",
    "with open('output.txt', 'a') as file:\n",
    "    file.write('Appending a new line to the file.\\n')  # Append a new line"
   ]
  },
  {
   "cell_type": "code",
   "execution_count": null,
   "id": "8107faa4",
   "metadata": {},
   "outputs": [
    {
     "name": "stdout",
     "output_type": "stream",
     "text": [
      "The file \"output.txt\" contains 24 words.\n"
     ]
    }
   ],
   "source": [
    "#5 counting the words in a file\n",
    "def count_words_in_file(filename):\n",
    "    with open(filename, 'r') as file:\n",
    "        content = file.read()\n",
    "        words = content.split() # Split content into words      \n",
    "        return len(words)\n",
    "\n",
    "# Example usage of the count_words_in_file function\n",
    "word_count = count_words_in_file('output.txt')\n",
    "print(f'The file \"output.txt\" contains {word_count} words.')\n",
    "\n",
    "\n",
    "\n",
    "\n",
    "\n",
    "#6 reading a file line by line and counting lines   \n",
    "def count_lines_in_file(filename):\n",
    "    with open(filename, 'r') as file:\n",
    "        line_count = sum(1 for line in file)\n",
    "        return line_count\n",
    "\n",
    "def count_characters_in_file(filename):\n",
    "    with open(filename, 'r') as file:\n",
    "        content = file.read()\n",
    "        return len(content)"
   ]
  },
  {
   "cell_type": "code",
   "execution_count": 17,
   "id": "55527448",
   "metadata": {},
   "outputs": [],
   "source": [
    "# 7 write a method to read a file and replace a word with another word\n",
    "def replace_word_in_file(fileName, old_world, new_world):\n",
    "    with open(\"output.txt\", \"r\") as file:\n",
    "        content = file.read()\n",
    "    content = content.replace(old_world, new_world)\n",
    "    with open(\"output.txt\", \"w\") as file:\n",
    "        file.write(content)\n",
    "replace_word_in_file('output.txt', 'Appending', 'Pretending_word')  "
   ]
  },
  {
   "cell_type": "code",
   "execution_count": null,
   "id": "307aaa35",
   "metadata": {},
   "outputs": [],
   "source": []
  }
 ],
 "metadata": {
  "kernelspec": {
   "display_name": "Python 3",
   "language": "python",
   "name": "python3"
  },
  "language_info": {
   "codemirror_mode": {
    "name": "ipython",
    "version": 3
   },
   "file_extension": ".py",
   "mimetype": "text/x-python",
   "name": "python",
   "nbconvert_exporter": "python",
   "pygments_lexer": "ipython3",
   "version": "3.12.0"
  }
 },
 "nbformat": 4,
 "nbformat_minor": 5
}
