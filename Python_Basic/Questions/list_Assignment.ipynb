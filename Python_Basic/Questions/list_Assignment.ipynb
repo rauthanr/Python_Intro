{
 "cells": [
  {
   "cell_type": "markdown",
   "metadata": {},
   "source": [
    "# Module 3: Data Structures Assignments\n",
    "## Lesson 3.1: Lists\n",
    "### Assignment 1: Creating and Accessing Lists\n",
    "\n",
    "Create a list of the first 20 positive integers. Print the list.\n",
    "\n",
    "### Assignment 2: Accessing List Elements\n",
    "\n",
    "Print the first, middle, and last elements of the list created in Assignment 1.\n",
    "\n",
    "### Assignment 3: List Slicing\n",
    "\n",
    "Print the first five elements, the last five elements, and the elements from index 5 to 15 of the list created in Assignment 1.\n",
    "\n",
    "### Assignment 4: List Comprehensions\n",
    "\n",
    "Create a new list containing the squares of the first 10 positive integers using a list comprehension. Print the new list.\n",
    "\n",
    "### Assignment 5: Filtering Lists\n",
    "\n",
    "Create a new list containing only the even numbers from the list created in Assignment 1 using a list comprehension. Print the new list.\n",
    "\n",
    "### Assignment 6: List Methods\n",
    "\n",
    "Create a list of random numbers and sort it in ascending and descending order. Remove the duplicates from the list and print the modified list.\n",
    "\n",
    "### Assignment 7: Nested Lists\n",
    "\n",
    "Create a nested list representing a 3x3 matrix and print the matrix. Access and print the element at the second row and third column.\n",
    "\n",
    "### Assignment 8: List of Dictionaries\n",
    "\n",
    "Create a list of dictionaries where each dictionary represents a student with keys 'name' and 'score'. Sort the list of dictionaries by the 'score' in descending order and print the sorted list.\n",
    "\n",
    "### Assignment 9: Matrix Transposition\n",
    "\n",
    "Write a function that takes a 3x3 matrix (nested list) as input and returns its transpose. Print the original and transposed matrices.\n",
    "\n",
    "### Assignment 10: Flattening a Nested List\n",
    "\n",
    "Write a function that takes a nested list and flattens it into a single list. Print the original and flattened lists.\n",
    "\n",
    "### Assignment 11: List Manipulation\n",
    "\n",
    "Create a list of the first 10 positive integers. Remove the elements at indices 2, 4, and 6, and insert the element '99' at index 5. Print the modified list.\n",
    "\n",
    "### Assignment 12: List Zipping\n",
    "\n",
    "Create two lists of the same length. Use the `zip` function to combine these lists into a list of tuples and print the result.\n",
    "\n",
    "### Assignment 13: List Reversal\n",
    "\n",
    "Write a function that takes a list and returns a new list with the elements in reverse order. Print the original and reversed lists.\n",
    "\n",
    "### Assignment 14: List Rotation\n",
    "\n",
    "Write a function that rotates a list by n positions. Print the original and rotated lists.\n",
    "\n",
    "### Assignment 15: List Intersection\n",
    "\n",
    "Write a function that takes two lists and returns a new list containing only the elements that are present in both lists. Print the intersected list."
   ]
  },
  {
   "cell_type": "code",
   "execution_count": 2,
   "id": "6397c2ef",
   "metadata": {},
   "outputs": [
    {
     "name": "stdout",
     "output_type": "stream",
     "text": [
      "[91, 87, 77, 58, 49, 48, 41, 31, 21, 5]\n"
     ]
    }
   ],
   "source": [
    "import random\n",
    "random_list = [random.randint(1, 100) for _ in range(10)]\n",
    "random_list.sort(reverse=True)\n",
    "print(random_list)"
   ]
  },
  {
   "cell_type": "code",
   "execution_count": 8,
   "id": "2282d3ad",
   "metadata": {},
   "outputs": [
    {
     "name": "stdout",
     "output_type": "stream",
     "text": [
      "[1, 2, 3, 4, 5, 6, 7, 8, 9, 10, 11, 12, 13, 14, 15, 16, 17, 18, 19, 20]\n"
     ]
    }
   ],
   "source": [
    "# 1 List of first 20 integers\n",
    "myList = [i for i in range(1,21)]\n",
    "print(myList)\n"
   ]
  },
  {
   "cell_type": "code",
   "execution_count": 5,
   "metadata": {},
   "outputs": [
    {
     "name": "stdout",
     "output_type": "stream",
     "text": [
      "1\n",
      "20\n",
      "11\n"
     ]
    }
   ],
   "source": [
    "# Print First midle and last element in the list\n",
    "myList = [i for i in range(1,21)]\n",
    "print(myList[0])\n",
    "print(myList[-1])\n",
    "mid_index = len(myList)//2\n",
    "print(myList[mid_index])"
   ]
  },
  {
   "cell_type": "code",
   "execution_count": 6,
   "id": "81597247",
   "metadata": {},
   "outputs": [
    {
     "name": "stdout",
     "output_type": "stream",
     "text": [
      "[1, 2, 3, 4, 5]\n",
      "[6, 7, 8, 9, 10, 11, 12, 13, 14, 15]\n",
      "[16, 17, 18, 19, 20]\n"
     ]
    }
   ],
   "source": [
    "# print first five, last five and 5 to 15\n",
    "myList = [i for i in range(1,21)]\n",
    "print(myList[:5])\n",
    "print(myList[5:15])\n",
    "print(myList[-5:])"
   ]
  },
  {
   "cell_type": "code",
   "execution_count": 35,
   "id": "789feda6",
   "metadata": {},
   "outputs": [
    {
     "name": "stdout",
     "output_type": "stream",
     "text": [
      "[1, 4, 9, 16, 25, 36, 49, 64, 81, 100]\n"
     ]
    }
   ],
   "source": [
    "# Square of first 10 elements\n",
    "squareList = [x*x for x in range(1,11)]\n",
    "print(squareList)"
   ]
  },
  {
   "cell_type": "code",
   "execution_count": 49,
   "id": "3d899c68",
   "metadata": {},
   "outputs": [
    {
     "name": "stdout",
     "output_type": "stream",
     "text": [
      "[1, 2, 3, 4, 5, 6, 7, 8, 9, 10, 11, 12, 13, 14, 15, 16, 17, 18, 19, 20]\n",
      "[2, 4, 6, 8, 10, 12, 14, 16, 18, 20]\n"
     ]
    }
   ],
   "source": [
    "# even numbers from list\n",
    "print(myList)\n",
    "#for i in myList:\n",
    "    #if i%2==0:\n",
    "        #print(i)\n",
    "\n",
    "# alternative\n",
    "even_numbers  = [num for num in myList if num %2 == 0 ]\n",
    "print(even_numbers)"
   ]
  },
  {
   "cell_type": "code",
   "execution_count": 2,
   "id": "f007f63f",
   "metadata": {},
   "outputs": [
    {
     "name": "stdout",
     "output_type": "stream",
     "text": [
      "[14, 44, 20]\n",
      "[5, 26, 25]\n",
      "[18, 50, 32]\n"
     ]
    }
   ],
   "source": [
    "#7  create a 3*3 matrix and print a particular element\n",
    "matrix = []\n",
    "for i in range(3):\n",
    "    row = list(random.randint(1,50) for _ in range(3))\n",
    "    matrix.append(row)\n",
    "\n",
    "#disply mtrix\n",
    "for row in matrix:\n",
    "    print(row)\n",
    "\n"
   ]
  },
  {
   "cell_type": "code",
   "execution_count": 5,
   "id": "bfc6a59d",
   "metadata": {},
   "outputs": [
    {
     "name": "stdout",
     "output_type": "stream",
     "text": [
      "[{'name': 'raj', 'score': 87}, {'name': 'rohan', 'score': 97}, {'name': 'deepak', 'score': 74}, {'name': 'amit', 'score': 73}]\n",
      "[{'name': 'rohan', 'score': 97}, {'name': 'raj', 'score': 87}, {'name': 'deepak', 'score': 74}, {'name': 'amit', 'score': 73}]\n"
     ]
    }
   ],
   "source": [
    "# 8  List of dictionaries with name and score\n",
    "student_list = [{'name':'raj', 'score':87}, {'name':'rohan', 'score':97}, {'name':'deepak', 'score':74}, {'name':'amit', 'score':73}]\n",
    "print(student_list)\n",
    "newlist = sorted(student_list, key=lambda d: d['score'], reverse=True)\n",
    "print(newlist)\n"
   ]
  },
  {
   "cell_type": "code",
   "execution_count": 7,
   "id": "1267b211",
   "metadata": {},
   "outputs": [
    {
     "name": "stdout",
     "output_type": "stream",
     "text": [
      "[[0, 0, 0], [0, 0, 0], [0, 0, 0]]\n",
      "[['5', '7', '9'], ['9', '8', '7'], ['8', '5', '3']]\n",
      "0 0\n",
      "0 1\n",
      "0 2\n",
      "1 0\n",
      "1 1\n",
      "1 2\n",
      "2 0\n",
      "2 1\n",
      "2 2\n",
      "[['5', '9', '8'], ['7', '8', '5'], ['9', '7', '3']]\n"
     ]
    }
   ],
   "source": [
    "# 9 matrix takes 3*3 matrix and return its transpose\n",
    "\n",
    "matrix = []\n",
    "transpose = [[0 for x in range(3)] for y in range(3)] \n",
    "print(transpose)\n",
    "for i in range(3):\n",
    "    m = []\n",
    "    for j in range(3):\n",
    "        num = input(\"Enter No\")\n",
    "        m.append(num)\n",
    "    matrix.append(m)\n",
    "print(matrix)\n",
    "\n",
    "for i in range(3):\n",
    "    for j in range(3):\n",
    "        print(i,j)\n",
    "        transpose[i][j] = matrix[j][i]\n",
    "\n",
    "print(transpose)"
   ]
  },
  {
   "cell_type": "code",
   "execution_count": null,
   "id": "a395b173",
   "metadata": {},
   "outputs": [
    {
     "name": "stdout",
     "output_type": "stream",
     "text": [
      "[11, 22, 33, 44, 55, 66, 77, 88, 99, 100]\n"
     ]
    }
   ],
   "source": [
    "# 10 Flatten a nested List\n",
    "lis = [[11, 22, 33, 44], [55, 66, 77], [88, 99, 100]]\n",
    "flatList = [element for innerList in lis for element in innerList]\n",
    "print(flatList)\n",
    "## Alternative\n",
    "#flatList = []\n",
    "#for innerList in lis:\n",
    "#for element in innerList:\n",
    "#flatList.append(element)"
   ]
  },
  {
   "cell_type": "code",
   "execution_count": null,
   "id": "63e507ba",
   "metadata": {},
   "outputs": [
    {
     "name": "stdout",
     "output_type": "stream",
     "text": [
      "[(1, 'a', '!'), (2, 'b', '@'), (3, 'c', '#'), (4, 'd', '$'), (5, 'e', '%')]\n",
      "[(5, 'e', '%'), (4, 'd', '$'), (3, 'c', '#'), (2, 'b', '@'), (1, 'a', '!')]\n"
     ]
    }
   ],
   "source": [
    "# create two lists of same length and useing zip method to combine these lists to list of tuples\n",
    "# Create two lists of the same length\n",
    "list1 = [1, 2, 3, 4, 5, 6]\n",
    "list2 = ['a', 'b', 'c', 'd', 'e']\n",
    "list3 = ['!', '@', '#', '$', '%']\n",
    "\n",
    "\n",
    "# Use the zip() method to combine the lists into a list of tuples\n",
    "zipped_list = list(zip(list1, list2, list3))\n",
    "\n",
    "print(zipped_list)\n",
    "print(sorted(zipped_list, reverse=True))\n"
   ]
  },
  {
   "cell_type": "code",
   "execution_count": 23,
   "id": "30753759",
   "metadata": {},
   "outputs": [
    {
     "name": "stdout",
     "output_type": "stream",
     "text": [
      "[4, 5, 1, 2, 3]\n"
     ]
    }
   ],
   "source": [
    "#List rotation\n",
    "a = [1, 2, 3, 4, 5]\n",
    "n = 2  \n",
    "\n",
    "rotated_list = a[-n:] + a[:-n] \n",
    "print(rotated_list)\n"
   ]
  },
  {
   "cell_type": "code",
   "execution_count": null,
   "id": "4860706e",
   "metadata": {},
   "outputs": [],
   "source": [
    "# List Interation\n",
    "list1 = [1, 2, 3, 4, 5]\n",
    "list2 = [4, 5, 6, 7, 8]\n",
    "\n",
    "common = [item for item in list1 if item in set(list2)]\n",
    "print(common)"
   ]
  }
 ],
 "metadata": {
  "kernelspec": {
   "display_name": "Python 3",
   "language": "python",
   "name": "python3"
  },
  "language_info": {
   "codemirror_mode": {
    "name": "ipython",
    "version": 3
   },
   "file_extension": ".py",
   "mimetype": "text/x-python",
   "name": "python",
   "nbconvert_exporter": "python",
   "pygments_lexer": "ipython3",
   "version": "3.12.0"
  }
 },
 "nbformat": 4,
 "nbformat_minor": 5
}
