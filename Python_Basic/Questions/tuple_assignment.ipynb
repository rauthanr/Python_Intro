{
 "cells": [
  {
   "cell_type": "markdown",
   "id": "6cade624",
   "metadata": {},
   "source": [
    "# Module 3: Data Structures Assignments\n",
    "## Lesson 3.2: Tuples\n",
    "### Assignment 1: Creating and Accessing Tuples\n",
    "\n",
    "Create a tuple with the first 10 positive integers. Print the tuple.\n",
    "\n",
    "### Assignment 2: Accessing Tuple Elements\n",
    "\n",
    "Print the first, middle, and last elements of the tuple created in Assignment 1.\n",
    "\n",
    "### Assignment 3: Tuple Slicing\n",
    "\n",
    "Print the first three elements, the last three elements, and the elements from index 2 to 5 of the tuple created in Assignment 1.\n",
    "\n",
    "### Assignment 4: Nested Tuples\n",
    "\n",
    "Create a nested tuple representing a 3x3 matrix and print the matrix. Access and print the element at the second row and third column.\n",
    "\n",
    "### Assignment 5: Tuple Concatenation\n",
    "\n",
    "Concatenate two tuples: (1, 2, 3) and (4, 5, 6). Print the resulting tuple.\n",
    "\n",
    "### Assignment 6: Tuple Methods\n",
    "\n",
    "Create a tuple with duplicate elements and count the occurrences of an element. Find the index of the first occurrence of an element in the tuple.\n",
    "\n",
    "### Assignment 7: Unpacking Tuples\n",
    "\n",
    "Create a tuple with 5 elements and unpack it into 5 variables. Print the variables.\n",
    "\n",
    "### Assignment 8: Tuple Conversion\n",
    "\n",
    "Convert a list of the first 5 positive integers to a tuple. Print the tuple.\n",
    "\n",
    "### Assignment 9: Tuple of Tuples\n",
    "\n",
    "Create a tuple containing 3 tuples, each with 3 elements. Print the tuple of tuples.\n",
    "\n",
    "### Assignment 10: Tuple and List\n",
    "\n",
    "Create a tuple with the first 5 positive integers. Convert it to a list, append the number 6, and convert it back to a tuple. Print the resulting tuple.\n",
    "\n",
    "### Assignment 11: Tuple and String\n",
    "\n",
    "Create a tuple with the characters of a string. Join the tuple elements into a single string. Print the string.\n",
    "\n",
    "### Assignment 12: Tuple and Dictionary\n",
    "\n",
    "Create a dictionary with tuple keys and integer values. Print the dictionary.\n",
    "\n",
    "### Assignment 13: Nested Tuple Iteration\n",
    "\n",
    "Create a nested tuple and iterate over the elements, printing each element.\n",
    "\n",
    "### Assignment 14: Tuple and Set\n",
    "\n",
    "Create a tuple with duplicate elements. Convert it to a set to remove duplicates and print the resulting set.\n",
    "\n",
    "### Assignment 15: Tuple Functions\n",
    "\n",
    "Write functions that take a tuple and return the minimum, maximum, and sum of the elements. Print the results for a sample tuple."
   ]
  },
  {
   "cell_type": "code",
   "execution_count": 9,
   "metadata": {},
   "outputs": [
    {
     "name": "stdout",
     "output_type": "stream",
     "text": [
      "(0, 1, 2, 3, 4, 5, 6, 7, 8, 9)\n",
      "0\n",
      "5\n",
      "9\n",
      "(0, 1, 2)\n",
      "(2, 3, 4, 5)\n",
      "(7, 8, 9)\n"
     ]
    }
   ],
   "source": [
    "# 1 Create tuple with first 10 integers\n",
    "numbers = tuple(range(10))\n",
    "print(numbers)\n",
    "\n",
    "\n",
    "# 2 Print first middle and last element of tuple\n",
    "print(numbers[0])\n",
    "print(numbers[len(numbers)//2])\n",
    "print(numbers[-1])\n",
    "\n",
    "# 3 Print first 3, last 3 and 2 to 6\n",
    "print(numbers[:3])\n",
    "print(numbers[2:6])\n",
    "print(numbers[-3:])"
   ]
  },
  {
   "cell_type": "code",
   "execution_count": 11,
   "id": "2a8b00f4",
   "metadata": {},
   "outputs": [
    {
     "name": "stdout",
     "output_type": "stream",
     "text": [
      "((1, 2, 3), (4, 5, 6), (7, 8, 9))\n",
      "(1, 2, 3, 4, 5, 6)\n"
     ]
    }
   ],
   "source": [
    "#4 Create a 3*3 matrix of tuple\n",
    "matrix = tuple(\n",
    "    tuple(i * 3 + j + 1 for j in range(3))  # Inner row\n",
    "    for i in range(3)                       # Outer loop for 3 rows\n",
    ")\n",
    "\n",
    "print(matrix)\n",
    "\n",
    "#5 Concat two tuple\n",
    "\n",
    "tuple1 = (1,2,3)\n",
    "tuple2 = (4,5,6)\n",
    "\n",
    "result = tuple1 + tuple2\n",
    "\n",
    "print(result)\n"
   ]
  },
  {
   "cell_type": "code",
   "execution_count": 15,
   "id": "dca23606",
   "metadata": {},
   "outputs": [
    {
     "name": "stdout",
     "output_type": "stream",
     "text": [
      "Count of 2: 3\n",
      "First occurrence of 2 at index: 1\n",
      "3\n",
      "(1, 2, 3, 4, 5)\n"
     ]
    }
   ],
   "source": [
    "# 6 create a tuple with duplicate elements and count the occurrence of an element , find the first occurreance of an element \n",
    "\n",
    "my_tuple = (1, 2, 3, 2, 4, 2, 5)\n",
    "# Count occurrences of 2\n",
    "count_2 = my_tuple.count(2)\n",
    "\n",
    "# Find first occurrence of 2\n",
    "first_index_2 = my_tuple.index(2)\n",
    "\n",
    "print(\"Count of 2:\", count_2)\n",
    "print(\"First occurrence of 2 at index:\", first_index_2)\n",
    "\n",
    "# 7 unpack a tuple\n",
    "my_tuple_1 = (1,2,3,4,5)\n",
    "a,b,c,d,e = my_tuple_1\n",
    "print(c)\n",
    "\n",
    "\n",
    "# 8 list to tuple\n",
    "my_list = [1,2,3,4,5]\n",
    "my_tuple_2 = tuple(my_list)\n",
    "print(my_tuple_2)\n"
   ]
  },
  {
   "cell_type": "code",
   "execution_count": 20,
   "id": "1b75df9f",
   "metadata": {},
   "outputs": [
    {
     "name": "stdout",
     "output_type": "stream",
     "text": [
      "[1, 2, 3, 4, 5, 6]\n",
      "(1, 2, 3, 4, 5, 6)\n",
      "hello\n"
     ]
    }
   ],
   "source": [
    "# 10 Create a tuple , convert it to list and then add element and convert back to tuple\n",
    "\n",
    "my_tuple = (1,2,3,4,5)\n",
    "my_list = list(my_tuple)\n",
    "my_list.append(6)\n",
    "print(my_list)\n",
    "my_tuple = tuple(my_list)\n",
    "print(my_tuple)\n",
    "\n",
    "# 11 join tuple elements\n",
    "\n",
    "my_tuple_1 = ('h', 'e', 'l', 'l', 'o')\n",
    "result = ''.join(my_tuple_1)\n",
    "print(result)"
   ]
  },
  {
   "cell_type": "code",
   "execution_count": 21,
   "id": "1cd16633",
   "metadata": {},
   "outputs": [
    {
     "name": "stdout",
     "output_type": "stream",
     "text": [
      "{(1, 2): 100, (3, 4): 200, (5, 6): 300}\n"
     ]
    }
   ],
   "source": [
    "# 12  dictionary with tuple keys and integer values\n",
    "\n",
    "my_dict = {\n",
    "    (1, 2): 100,\n",
    "    (3, 4): 200,\n",
    "    (5, 6): 300\n",
    "}\n",
    "\n",
    "print(my_dict)"
   ]
  },
  {
   "cell_type": "code",
   "execution_count": null,
   "id": "45b60701",
   "metadata": {},
   "outputs": [],
   "source": [
    "# 13  Create and iterate over a nested tuple\n",
    "\n",
    "nested_tuple = (\n",
    "    (1, 2, 3),\n",
    "    (4, 5, 6),\n",
    "    (7, 8, 9)\n",
    ")\n",
    "\n",
    "# Iterate over rows and elements\n",
    "for row in nested_tuple:\n",
    "    for item in row:\n",
    "        print(item, end=' ')\n",
    "    print()  # Newline after each row\n"
   ]
  }
 ],
 "metadata": {
  "kernelspec": {
   "display_name": "Python 3",
   "language": "python",
   "name": "python3"
  },
  "language_info": {
   "codemirror_mode": {
    "name": "ipython",
    "version": 3
   },
   "file_extension": ".py",
   "mimetype": "text/x-python",
   "name": "python",
   "nbconvert_exporter": "python",
   "pygments_lexer": "ipython3",
   "version": "3.12.0"
  }
 },
 "nbformat": 4,
 "nbformat_minor": 5
}
