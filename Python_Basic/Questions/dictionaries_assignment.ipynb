{
 "cells": [
  {
   "cell_type": "markdown",
   "metadata": {},
   "source": [
    "# Module 3: Data Structures Assignments\n",
    "## Lesson 3.4: Dictionaries\n",
    "### Assignment 1: Creating and Accessing Dictionaries\n",
    "\n",
    "Create a dictionary with the first 10 positive integers as keys and their squares as values. Print the dictionary.\n",
    "\n",
    "### Assignment 2: Accessing Dictionary Elements\n",
    "\n",
    "Print the value of the key 5 and the keys of the dictionary created in Assignment 1.\n",
    "\n",
    "### Assignment 3: Dictionary Methods\n",
    "\n",
    "Add a new key-value pair (11, 121) to the dictionary created in Assignment 1 and then remove the key-value pair with key 1. Print the modified dictionary.\n",
    "\n",
    "### Assignment 4: Iterating Over Dictionaries\n",
    "\n",
    "Iterate over the dictionary created in Assignment 1 and print each key-value pair.\n",
    "\n",
    "### Assignment 5: Dictionary Comprehensions\n",
    "\n",
    "Create a new dictionary containing the cubes of the first 10 positive integers using a dictionary comprehension. Print the new dictionary.\n",
    "\n",
    "### Assignment 6: Merging Dictionaries\n",
    "\n",
    "Create two dictionaries: one with keys as the first 5 positive integers and values as their squares, and another with keys as the next 5 positive integers and values as their squares. Merge these dictionaries into a single dictionary and print it.\n",
    "\n",
    "### Assignment 7: Nested Dictionaries\n",
    "\n",
    "Create a nested dictionary representing a student with keys 'name', 'age', 'grades', where 'grades' is another dictionary with keys 'math', 'science', and 'english'. Print the nested dictionary.\n",
    "\n",
    "### Assignment 8: Dictionary of Lists\n",
    "\n",
    "Create a dictionary where the keys are the first 5 positive integers and the values are lists containing the first 5 multiples of the key. Print the dictionary.\n",
    "\n",
    "### Assignment 9: Dictionary of Tuples\n",
    "\n",
    "Create a dictionary where the keys are the first 5 positive integers and the values are tuples containing the key and its square. Print the dictionary.\n",
    "\n",
    "### Assignment 10: Dictionary and List Conversion\n",
    "\n",
    "Create a dictionary with the first 5 positive integers as keys and their squares as values. Convert the dictionary to a list of tuples and print it.\n",
    "\n",
    "### Assignment 11: Dictionary Filtering\n",
    "\n",
    "Create a dictionary with the first 10 positive integers as keys and their squares as values. Create a new dictionary containing only the key-value pairs where the key is even. Print the new dictionary.\n",
    "\n",
    "### Assignment 12: Dictionary Key and Value Transformation\n",
    "\n",
    "Create a dictionary with the first 5 positive integers as keys and their squares as values. Create a new dictionary with keys and values swapped. Print the new dictionary.\n",
    "\n",
    "### Assignment 13: Default Dictionary\n",
    "\n",
    "Create a default dictionary where each key has a default value of an empty list. Add some elements to the lists and print the dictionary.\n",
    "\n",
    "### Assignment 14: Counting with Dictionaries\n",
    "\n",
    "Write a function that takes a string and returns a dictionary with the count of each character in the string. Print the dictionary.\n",
    "\n",
    "### Assignment 15: Dictionary and JSON\n",
    "\n",
    "Create a dictionary representing a book with keys 'title', 'author', 'year', and 'genre'. Convert the dictionary to a JSON string and print it."
   ]
  },
  {
   "cell_type": "code",
   "execution_count": 8,
   "metadata": {},
   "outputs": [
    {
     "name": "stdout",
     "output_type": "stream",
     "text": [
      "{1: 1, 2: 4, 3: 9, 4: 16, 5: 25, 6: 36, 7: 49, 8: 64, 9: 81, 10: 100}\n",
      "dict_keys([1, 2, 3, 4, 5, 6, 7, 8, 9, 10])\n",
      "16\n",
      "{1: 1, 2: 4, 4: 16, 5: 25, 6: 36, 7: 49, 8: 64, 9: 81, 10: 100, 11: 121}\n",
      "key: 1, value: 1 \n",
      "key: 2, value: 4 \n",
      "key: 4, value: 16 \n",
      "key: 5, value: 25 \n",
      "key: 6, value: 36 \n",
      "key: 7, value: 49 \n",
      "key: 8, value: 64 \n",
      "key: 9, value: 81 \n",
      "key: 10, value: 100 \n",
      "key: 11, value: 121 \n"
     ]
    }
   ],
   "source": [
    "#1 Create a dictionary with first 10 positive integers as keys and their values as square\n",
    "\n",
    "squar_dict = {x: x*x for x in range(1,11)}\n",
    "print(squar_dict)\n",
    "\n",
    "\n",
    "# 2 print dictionay keys\n",
    "print(squar_dict.keys())\n",
    "print(squar_dict.get(4))\n",
    "# 3 add and remove from dictionary\n",
    "\n",
    "squar_dict.update({11:121})\n",
    "squar_dict.pop(3)\n",
    "print(squar_dict)\n",
    "\n",
    "# 4 Iterate over dictionary\n",
    "\n",
    "for key, value in squar_dict.items():\n",
    "    print (f\"key: {key}, value: {value} \")\n",
    "\n",
    "\n"
   ]
  },
  {
   "cell_type": "code",
   "execution_count": 1,
   "id": "278c3143",
   "metadata": {},
   "outputs": [
    {
     "name": "stdout",
     "output_type": "stream",
     "text": [
      "{1: 1, 2: 8, 3: 27, 4: 64, 5: 125}\n",
      "{6: 216, 7: 343, 8: 512, 9: 729, 10: 1000}\n",
      "{1: 1, 2: 8, 3: 27, 4: 64, 5: 125, 6: 216, 7: 343, 8: 512, 9: 729, 10: 1000}\n",
      "{'name': 'Ram', 'age': 20, 'grades': {'math': 70, 'science': 79, 'Art': 74}}\n",
      "{1: [1, 2, 3, 4, 5], 2: [2, 4, 6, 8, 10], 3: [3, 6, 9, 12, 15], 4: [4, 8, 12, 16, 20], 5: [5, 10, 15, 20, 25]}\n"
     ]
    }
   ],
   "source": [
    "# 5\n",
    "cubes_dict1 = {x: x**3 for x in range(1, 6)}\n",
    "cubes_dict2 = {x: x**3 for x in range(6, 11)}\n",
    "print(cubes_dict1)\n",
    "print(cubes_dict2)\n",
    "cubes_dict = cubes_dict1 | cubes_dict2\n",
    "print(cubes_dict)\n",
    "\n",
    "\n",
    "#6 nested dictionary\n",
    "student = {\"name\": \"Ram\",\n",
    "           \"age\": 20,\n",
    "           \"grades\": {\n",
    "               \"math\": 70,\n",
    "               \"science\": 79,\n",
    "               \"Art\": 74\n",
    "           }}\n",
    "\n",
    "print(student)\n",
    "\n",
    "\n",
    "# 7 Key is first 5 positive elements ans values are first five multiples\n",
    "\n",
    "multiples_dict = {x: [x * i for i in range(1, 6)] for x in range(1, 6)}\n",
    "print(multiples_dict)"
   ]
  },
  {
   "cell_type": "code",
   "execution_count": null,
   "id": "bfbd455f",
   "metadata": {},
   "outputs": [
    {
     "name": "stdout",
     "output_type": "stream",
     "text": [
      "{1: (1, 1), 2: (2, 4), 3: (3, 9), 4: (4, 16), 5: (5, 25)}\n",
      "{1: 1, 2: 4, 3: 9, 4: 16, 5: 25, 6: 36, 7: 49, 8: 64, 9: 81, 10: 100}\n",
      "{2: 4, 4: 16, 6: 36, 8: 64, 10: 100}\n"
     ]
    }
   ],
   "source": [
    "# 8 dictionary with keys and tuple\n",
    "\n",
    "tuple_dict = {x: (x, x*x) for x in range(1,6)}\n",
    "\n",
    "print(tuple_dict)\n",
    "\n",
    "# 11 dictionary filtering\n",
    "dict_square = {x: x*x for x in range(1,11)}\n",
    "even_squares = {k: v for k, v in dict_square.items() if k % 2 == 0}\n",
    "\n",
    "new_dict = {}\n",
    "for key, value in dict_square.items():\n",
    "    if key%2 == 0:\n",
    "        new_dict.update({key: value})\n",
    "\n",
    "print(dict_square)\n",
    "print(new_dict)"
   ]
  },
  {
   "cell_type": "code",
   "execution_count": 8,
   "id": "de835c90",
   "metadata": {},
   "outputs": [
    {
     "name": "stdout",
     "output_type": "stream",
     "text": [
      "{1: 1, 4: 2, 9: 3, 16: 4, 25: 5, 36: 6, 49: 7, 64: 8, 81: 9, 100: 10}\n"
     ]
    }
   ],
   "source": [
    "# 12 Key value swap\n",
    "dict_square = {x: x*x for x in range(1,11)}\n",
    "swap_dict = {v: k  for k, v in dict_square.items()}\n",
    "print(swap_dict)"
   ]
  },
  {
   "cell_type": "code",
   "execution_count": 9,
   "id": "9fe35b2c",
   "metadata": {},
   "outputs": [
    {
     "name": "stdout",
     "output_type": "stream",
     "text": [
      "defaultdict(<class 'list'>, {'fruits': ['apple', 'banana'], 'vegetables': ['carrot']})\n"
     ]
    }
   ],
   "source": [
    "#13 create a default dictionary where each key has a default value of an empty list. add some element to list and print it\n",
    "\n",
    "from collections import defaultdict\n",
    "\n",
    "# Create a defaultdict with default value as an empty list\n",
    "my_dict = defaultdict(list)\n",
    "\n",
    "# Add elements to the lists\n",
    "my_dict['fruits'].append('apple')\n",
    "my_dict['fruits'].append('banana')\n",
    "my_dict['vegetables'].append('carrot')\n",
    "\n",
    "print(my_dict)"
   ]
  },
  {
   "cell_type": "code",
   "execution_count": 11,
   "id": "5aedfc47",
   "metadata": {},
   "outputs": [
    {
     "name": "stdout",
     "output_type": "stream",
     "text": [
      "{'h': 1, 'e': 1, 'l': 3, 'o': 2, ' ': 1, 'w': 1, 'r': 1, 'd': 1}\n",
      "{\"fruits\": [\"apple\", \"banana\"], \"vegetables\": [\"carrot\"]}\n"
     ]
    }
   ],
   "source": [
    "#14 take a string and return a dictionary that contains the count of each character\n",
    "import json\n",
    "def char_count(s):\n",
    "    count_dict = {}\n",
    "    for char in s:\n",
    "        if char in count_dict:\n",
    "            count_dict[char] += 1\n",
    "        else:\n",
    "            count_dict[char] = 1\n",
    "    return count_dict\n",
    "\n",
    "# Example usage\n",
    "input_str = \"hello world\"\n",
    "result = char_count(input_str)\n",
    "print(result)\n",
    "\n",
    "json_str = json.dumps(my_dict)\n",
    "\n",
    "print(json_str)\n"
   ]
  },
  {
   "cell_type": "code",
   "execution_count": 18,
   "id": "641eca79",
   "metadata": {},
   "outputs": [
    {
     "name": "stdout",
     "output_type": "stream",
     "text": [
      "0\n",
      "1\n",
      "2\n",
      "3\n",
      "4\n",
      "5\n",
      "6\n",
      "7\n",
      "8\n"
     ]
    }
   ],
   "source": [
    "lst = [x for x in range(1,11)]\n",
    "for x in range(len(lst)-1):\n",
    "    print(x)\n"
   ]
  },
  {
   "cell_type": "code",
   "execution_count": 27,
   "id": "fd544670",
   "metadata": {},
   "outputs": [
    {
     "name": "stdout",
     "output_type": "stream",
     "text": [
      "[1, 2, 3, 4, 5, 6]\n"
     ]
    }
   ],
   "source": [
    "lst = []\n",
    "list1 = [1, 3, 5]\n",
    "list2 = [2, 4, 6]\n",
    "lent = len(list1) if len(list1) < len(list2) else len(list2)\n",
    "\n",
    "x = 0\n",
    "y = 0\n",
    "while x < lent and y < lent:\n",
    "    if(list1[x] < list2[y]):\n",
    "         lst.append(list1[x])\n",
    "         x +=1\n",
    "    else:\n",
    "         lst.append(list2[y])\n",
    "         y +=1\n",
    "       \n",
    "    \n",
    "\n",
    "for j in range(x, len(list1)):\n",
    "     lst.append(list1[j])\n",
    "\n",
    "for k in range(y, len(list2)):\n",
    "     lst.append(list2[k])\n",
    "print(lst)"
   ]
  },
  {
   "cell_type": "code",
   "execution_count": null,
   "id": "0ec5d151",
   "metadata": {},
   "outputs": [
    {
     "name": "stdout",
     "output_type": "stream",
     "text": [
      "2\n"
     ]
    },
    {
     "ename": "IndexError",
     "evalue": "list assignment index out of range",
     "output_type": "error",
     "traceback": [
      "\u001b[1;31m---------------------------------------------------------------------------\u001b[0m",
      "\u001b[1;31mIndexError\u001b[0m                                Traceback (most recent call last)",
      "Cell \u001b[1;32mIn[35], line 8\u001b[0m\n\u001b[0;32m      6\u001b[0m     index \u001b[38;5;241m=\u001b[39m (x\u001b[38;5;241m+\u001b[39mk)\u001b[38;5;241m%\u001b[39mlenth\n\u001b[0;32m      7\u001b[0m     \u001b[38;5;28mprint\u001b[39m(index)\n\u001b[1;32m----> 8\u001b[0m     \u001b[43mresult\u001b[49m\u001b[43m[\u001b[49m\u001b[43mindex\u001b[49m\u001b[43m]\u001b[49m \u001b[38;5;241m=\u001b[39m lst[x]\n\u001b[0;32m      9\u001b[0m \u001b[38;5;28mprint\u001b[39m(result)\n",
      "\u001b[1;31mIndexError\u001b[0m: list assignment index out of range"
     ]
    }
   ],
   "source": [
    "lst = [1, 2, 3, 4, 5]\n",
    "result = []\n",
    "lenth = len(lst)\n",
    "k = 2\n",
    "for x in range(lenth):\n",
    "    index = (x+k)%lenth\n",
    "    print(index)\n",
    "    #result[index] = lst[x]\n",
    "print(result)"
   ]
  },
  {
   "cell_type": "code",
   "execution_count": null,
   "id": "54a1d853",
   "metadata": {},
   "outputs": [],
   "source": []
  }
 ],
 "metadata": {
  "kernelspec": {
   "display_name": "Python 3",
   "language": "python",
   "name": "python3"
  },
  "language_info": {
   "codemirror_mode": {
    "name": "ipython",
    "version": 3
   },
   "file_extension": ".py",
   "mimetype": "text/x-python",
   "name": "python",
   "nbconvert_exporter": "python",
   "pygments_lexer": "ipython3",
   "version": "3.12.0"
  }
 },
 "nbformat": 4,
 "nbformat_minor": 5
}
